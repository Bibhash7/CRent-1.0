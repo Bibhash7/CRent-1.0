{
 "cells": [
  {
   "cell_type": "code",
   "execution_count": null,
   "id": "927fed07-a41f-47b8-85a8-bb97e76446ae",
   "metadata": {},
   "outputs": [],
   "source": [
    "import pyodbc\n",
    "from prettytable import PrettyTable\n",
    "import hashlib\n",
    "from cassandra.cluster import Cluster\n",
    "from datetime import date"
   ]
  }
 ],
 "metadata": {
  "kernelspec": {
   "display_name": "Python 3 (ipykernel)",
   "language": "python",
   "name": "python3"
  },
  "language_info": {
   "codemirror_mode": {
    "name": "ipython",
    "version": 3
   },
   "file_extension": ".py",
   "mimetype": "text/x-python",
   "name": "python",
   "nbconvert_exporter": "python",
   "pygments_lexer": "ipython3",
   "version": "3.10.11"
  }
 },
 "nbformat": 4,
 "nbformat_minor": 5
}
