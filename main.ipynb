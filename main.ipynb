{
 "cells": [
  {
   "cell_type": "code",
   "execution_count": 4,
   "id": "48262bb6-31c0-43c4-b4d1-00d7f6e830a4",
   "metadata": {},
   "outputs": [],
   "source": [
    "%run library.ipynb\n",
    "%run db_conn.ipynb\n",
    "%run user.ipynb\n",
    "%run admin_all.ipynb"
   ]
  },
  {
   "cell_type": "code",
   "execution_count": null,
   "id": "6f4ed2f2-c76b-4d56-b7f3-f32a27b9f866",
   "metadata": {},
   "outputs": [
    {
     "name": "stdin",
     "output_type": "stream",
     "text": [
      "Are you an Admin/User (A/U) Press E for exit:  A\n",
      "Enter Admin Username:  admin\n",
      "Enter Passoword:  admin\n"
     ]
    },
    {
     "name": "stdout",
     "output_type": "stream",
     "text": [
      "+----------------------------------------+\n",
      "|                 ADMIN                  |\n",
      "+----------------------------------------+\n",
      "|       Press 1 for view all cars        |\n",
      "| Press 2 for add or remove existing car |\n",
      "|       Press 3 for add a new car        |\n",
      "|        Press 4 to delete a car         |\n",
      "| Press 5 delete the users who requested |\n",
      "|        Press 6 to Run Analytics        |\n",
      "|            Press 7 to exit             |\n",
      "+----------------------------------------+\n"
     ]
    },
    {
     "name": "stdin",
     "output_type": "stream",
     "text": [
      " 6\n"
     ]
    },
    {
     "name": "stdout",
     "output_type": "stream",
     "text": [
      "Total Amount Received is 600\n",
      "Number of Pending Transactions is 0\n",
      "+----------------------------------------+\n",
      "|                 ADMIN                  |\n",
      "+----------------------------------------+\n",
      "|       Press 1 for view all cars        |\n",
      "| Press 2 for add or remove existing car |\n",
      "|       Press 3 for add a new car        |\n",
      "|        Press 4 to delete a car         |\n",
      "| Press 5 delete the users who requested |\n",
      "|        Press 6 to Run Analytics        |\n",
      "|            Press 7 to exit             |\n",
      "+----------------------------------------+\n"
     ]
    },
    {
     "name": "stdin",
     "output_type": "stream",
     "text": [
      " 3\n",
      "Enter Car ID:  2\n",
      "Enter Model :  Fararri\n",
      "Enter Top Speed :  240\n",
      "Enter Cost Per Day :  5000\n",
      "Enter no of Cars :  3\n"
     ]
    },
    {
     "name": "stdout",
     "output_type": "stream",
     "text": [
      "Car ID: 2 inserted Successfully.\n",
      "+----------------------------------------+\n",
      "|                 ADMIN                  |\n",
      "+----------------------------------------+\n",
      "|       Press 1 for view all cars        |\n",
      "| Press 2 for add or remove existing car |\n",
      "|       Press 3 for add a new car        |\n",
      "|        Press 4 to delete a car         |\n",
      "| Press 5 delete the users who requested |\n",
      "|        Press 6 to Run Analytics        |\n",
      "|            Press 7 to exit             |\n",
      "+----------------------------------------+\n"
     ]
    },
    {
     "name": "stdin",
     "output_type": "stream",
     "text": [
      " 7\n"
     ]
    },
    {
     "name": "stdout",
     "output_type": "stream",
     "text": [
      "Successfully Signed out: \n"
     ]
    },
    {
     "name": "stdin",
     "output_type": "stream",
     "text": [
      "Are you an Admin/User (A/U) Press E for exit:  U\n",
      "Press S for Signup, L for Login:  L\n",
      "Enter Username or email:  bibhasg\n",
      "Enter Password:  g\n"
     ]
    },
    {
     "name": "stdout",
     "output_type": "stream",
     "text": [
      "Username or Password is Incorrect: \n"
     ]
    },
    {
     "name": "stdin",
     "output_type": "stream",
     "text": [
      "Are you an Admin/User (A/U) Press E for exit:  U\n",
      "Press S for Signup, L for Login:  L\n",
      "Enter Username or email:  bibhash\n",
      "Enter Password:  g\n"
     ]
    },
    {
     "name": "stdout",
     "output_type": "stream",
     "text": [
      "+-------------------------------------------------+\n",
      "|                 Welcome: bibhash                |\n",
      "+-------------------------------------------------+\n",
      "|             Press 1 for View all Car            |\n",
      "|                Press 2 Book a Car               |\n",
      "| Press 3 for Return the Car and Make Transaction |\n",
      "|          Press 4 for Show book history          |\n",
      "|          Press 5 to Update User Address         |\n",
      "|         Press 6 request Account Deletion        |\n",
      "|               Press 7 for Sign out              |\n",
      "+-------------------------------------------------+\n"
     ]
    },
    {
     "name": "stdin",
     "output_type": "stream",
     "text": [
      "Enter your Choice:  2\n",
      "Enter Car ID:  2\n"
     ]
    },
    {
     "name": "stdout",
     "output_type": "stream",
     "text": [
      "Your Booking for Car ID: 2 is Successful: Your booking id is: 4, Please note it for future reference\n",
      "+-------------------------------------------------+\n",
      "|                 Welcome: bibhash                |\n",
      "+-------------------------------------------------+\n",
      "|             Press 1 for View all Car            |\n",
      "|                Press 2 Book a Car               |\n",
      "| Press 3 for Return the Car and Make Transaction |\n",
      "|          Press 4 for Show book history          |\n",
      "|          Press 5 to Update User Address         |\n",
      "|         Press 6 request Account Deletion        |\n",
      "|               Press 7 for Sign out              |\n",
      "+-------------------------------------------------+\n"
     ]
    },
    {
     "name": "stdin",
     "output_type": "stream",
     "text": [
      "Enter your Choice:  3\n",
      "Enter the booking ID:  4\n",
      "Enter Rating (1-5):  4\n",
      "Your Tota amount is 5000: Do you want to return the car now? Y?N:  Y\n"
     ]
    },
    {
     "name": "stdout",
     "output_type": "stream",
     "text": [
      "Your Transaction is Successful: Please note the Transaction Id: 5XFGH for future reference\n",
      "+-------------------------------------------------+\n",
      "|                 Welcome: bibhash                |\n",
      "+-------------------------------------------------+\n",
      "|             Press 1 for View all Car            |\n",
      "|                Press 2 Book a Car               |\n",
      "| Press 3 for Return the Car and Make Transaction |\n",
      "|          Press 4 for Show book history          |\n",
      "|          Press 5 to Update User Address         |\n",
      "|         Press 6 request Account Deletion        |\n",
      "|               Press 7 for Sign out              |\n",
      "+-------------------------------------------------+\n"
     ]
    },
    {
     "name": "stdin",
     "output_type": "stream",
     "text": [
      "Enter your Choice:  2\n",
      "Enter Car ID:  2\n"
     ]
    },
    {
     "name": "stdout",
     "output_type": "stream",
     "text": [
      "Your Booking for Car ID: 2 is Successful: Your booking id is: 5, Please note it for future reference\n",
      "+-------------------------------------------------+\n",
      "|                 Welcome: bibhash                |\n",
      "+-------------------------------------------------+\n",
      "|             Press 1 for View all Car            |\n",
      "|                Press 2 Book a Car               |\n",
      "| Press 3 for Return the Car and Make Transaction |\n",
      "|          Press 4 for Show book history          |\n",
      "|          Press 5 to Update User Address         |\n",
      "|         Press 6 request Account Deletion        |\n",
      "|               Press 7 for Sign out              |\n",
      "+-------------------------------------------------+\n"
     ]
    },
    {
     "name": "stdin",
     "output_type": "stream",
     "text": [
      "Enter your Choice:  3\n",
      "Enter the booking ID:  5\n",
      "Enter Rating (1-5):  5\n",
      "Your Tota amount is 5000: Do you want to return the car now? Y?N:  Y\n"
     ]
    },
    {
     "name": "stdout",
     "output_type": "stream",
     "text": [
      "Your Transaction is Successful: Please note the Transaction Id: 6XFGH for future reference\n",
      "+-------------------------------------------------+\n",
      "|                 Welcome: bibhash                |\n",
      "+-------------------------------------------------+\n",
      "|             Press 1 for View all Car            |\n",
      "|                Press 2 Book a Car               |\n",
      "| Press 3 for Return the Car and Make Transaction |\n",
      "|          Press 4 for Show book history          |\n",
      "|          Press 5 to Update User Address         |\n",
      "|         Press 6 request Account Deletion        |\n",
      "|               Press 7 for Sign out              |\n",
      "+-------------------------------------------------+\n"
     ]
    },
    {
     "name": "stdin",
     "output_type": "stream",
     "text": [
      "Enter your Choice:  1\n"
     ]
    },
    {
     "name": "stdout",
     "output_type": "stream",
     "text": [
      "+-------+------------+-------+------+-----------+--------+\n",
      "| carid |   model    | speed | cost | availcars | rating |\n",
      "+-------+------------+-------+------+-----------+--------+\n",
      "|   1   | Maruti 800 |   70  | 200  |     4     |  3.7   |\n",
      "|   2   |  Fararri   |  240  | 5000 |     1     |  4.5   |\n",
      "+-------+------------+-------+------+-----------+--------+\n",
      "+-------------------------------------------------+\n",
      "|                 Welcome: bibhash                |\n",
      "+-------------------------------------------------+\n",
      "|             Press 1 for View all Car            |\n",
      "|                Press 2 Book a Car               |\n",
      "| Press 3 for Return the Car and Make Transaction |\n",
      "|          Press 4 for Show book history          |\n",
      "|          Press 5 to Update User Address         |\n",
      "|         Press 6 request Account Deletion        |\n",
      "|               Press 7 for Sign out              |\n",
      "+-------------------------------------------------+\n"
     ]
    },
    {
     "name": "stdin",
     "output_type": "stream",
     "text": [
      "Enter your Choice:  4\n",
      "Enter User Name:  bibhash\n"
     ]
    },
    {
     "name": "stdout",
     "output_type": "stream",
     "text": [
      "+------------+------------+-------+------+---------------+--------+------------+--------+------------+-------+-------+--------------+----------+\n",
      "| booking_id |  bookdate  | carid | cost |    fullname   | gender |   model    | rating | returndate | speed |  tid  | total_amount | username |\n",
      "+------------+------------+-------+------+---------------+--------+------------+--------+------------+-------+-------+--------------+----------+\n",
      "|     5      | 2023-05-17 |   2   | 5000 | Bibhash Ghosh |   M    |  Fararri   |  5.0   | 2023-05-17 |  240  | 6XFGH |     5000     | bibhash  |\n",
      "|     1      | 2023-05-17 |   1   | 200  | Bibhash Ghosh |   M    | Maruti 800 |  4.0   | 2023-05-17 |   70  | 2XFGH |     200      | bibhash  |\n",
      "|     2      | 2023-05-17 |   1   | 200  | Bibhash Ghosh |   M    | Maruti 800 |  2.0   | 2023-05-17 |   70  | 3XFGH |     200      | bibhash  |\n",
      "|     4      | 2023-05-17 |   2   | 5000 | Bibhash Ghosh |   M    |  Fararri   |  4.0   | 2023-05-17 |  240  | 5XFGH |     5000     | bibhash  |\n",
      "+------------+------------+-------+------+---------------+--------+------------+--------+------------+-------+-------+--------------+----------+\n",
      "+-------------------------------------------------+\n",
      "|                 Welcome: bibhash                |\n",
      "+-------------------------------------------------+\n",
      "|             Press 1 for View all Car            |\n",
      "|                Press 2 Book a Car               |\n",
      "| Press 3 for Return the Car and Make Transaction |\n",
      "|          Press 4 for Show book history          |\n",
      "|          Press 5 to Update User Address         |\n",
      "|         Press 6 request Account Deletion        |\n",
      "|               Press 7 for Sign out              |\n",
      "+-------------------------------------------------+\n"
     ]
    },
    {
     "name": "stdin",
     "output_type": "stream",
     "text": [
      "Enter your Choice:  7\n"
     ]
    },
    {
     "name": "stdout",
     "output_type": "stream",
     "text": [
      "Signed out Successfully:\n"
     ]
    },
    {
     "name": "stdin",
     "output_type": "stream",
     "text": [
      "Are you an Admin/User (A/U) Press E for exit:  A\n",
      "Enter Admin Username:  admin\n",
      "Enter Passoword:  admin\n"
     ]
    },
    {
     "name": "stdout",
     "output_type": "stream",
     "text": [
      "+----------------------------------------+\n",
      "|                 ADMIN                  |\n",
      "+----------------------------------------+\n",
      "|       Press 1 for view all cars        |\n",
      "| Press 2 for add or remove existing car |\n",
      "|       Press 3 for add a new car        |\n",
      "|        Press 4 to delete a car         |\n",
      "| Press 5 delete the users who requested |\n",
      "|        Press 6 to Run Analytics        |\n",
      "|            Press 7 to exit             |\n",
      "+----------------------------------------+\n"
     ]
    },
    {
     "name": "stdin",
     "output_type": "stream",
     "text": [
      " 6\n"
     ]
    },
    {
     "name": "stdout",
     "output_type": "stream",
     "text": [
      "Total Amount Received is 10600\n",
      "Number of Pending Transactions is 0\n",
      "+----------------------------------------+\n",
      "|                 ADMIN                  |\n",
      "+----------------------------------------+\n",
      "|       Press 1 for view all cars        |\n",
      "| Press 2 for add or remove existing car |\n",
      "|       Press 3 for add a new car        |\n",
      "|        Press 4 to delete a car         |\n",
      "| Press 5 delete the users who requested |\n",
      "|        Press 6 to Run Analytics        |\n",
      "|            Press 7 to exit             |\n",
      "+----------------------------------------+\n"
     ]
    }
   ],
   "source": [
    "while(1):\n",
    "    choice = input(\"Are you an Admin/User (A/U) Press E for exit: \")\n",
    "    if(choice == 'A'):\n",
    "        a = admin()\n",
    "        a.login()\n",
    "    elif(choice == 'U'):\n",
    "        choice2 = input(\"Press S for Signup, L for Login: \")\n",
    "        u = user()\n",
    "        if(choice2 == 'S'):\n",
    "            u.signup()\n",
    "        elif(choice2 == 'L'):\n",
    "            u.login()\n",
    "        else:\n",
    "            print(\"Invalid Option\")\n",
    "    elif(choice == 'E'):\n",
    "        print(\"Thanks for Using Crent: See you soon\")\n",
    "        break\n",
    "    else:\n",
    "        print(\"Invalid Option\")"
   ]
  },
  {
   "cell_type": "code",
   "execution_count": null,
   "id": "48157660-83a2-40e0-ba0d-15f6f6f789a0",
   "metadata": {},
   "outputs": [],
   "source": []
  }
 ],
 "metadata": {
  "kernelspec": {
   "display_name": "Python 3 (ipykernel)",
   "language": "python",
   "name": "python3"
  },
  "language_info": {
   "codemirror_mode": {
    "name": "ipython",
    "version": 3
   },
   "file_extension": ".py",
   "mimetype": "text/x-python",
   "name": "python",
   "nbconvert_exporter": "python",
   "pygments_lexer": "ipython3",
   "version": "3.10.11"
  }
 },
 "nbformat": 4,
 "nbformat_minor": 5
}
