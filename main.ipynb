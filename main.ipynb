{
 "cells": [
  {
   "cell_type": "code",
   "execution_count": 16,
   "id": "48262bb6-31c0-43c4-b4d1-00d7f6e830a4",
   "metadata": {},
   "outputs": [],
   "source": [
    "%run library.ipynb\n",
    "%run db_conn.ipynb\n",
    "%run user.ipynb\n",
    "%run admin_all.ipynb"
   ]
  },
  {
   "cell_type": "code",
   "execution_count": 18,
   "id": "6f4ed2f2-c76b-4d56-b7f3-f32a27b9f866",
   "metadata": {},
   "outputs": [
    {
     "name": "stdin",
     "output_type": "stream",
     "text": [
      "Are you an Admin/User (A/U) Press E for exit:  A\n",
      "Enter Admin Username:  admin\n",
      "Enter Passoword:  admin\n"
     ]
    },
    {
     "name": "stdout",
     "output_type": "stream",
     "text": [
      "+----------------------------------------+\n",
      "|                 ADMIN                  |\n",
      "+----------------------------------------+\n",
      "|       Press 1 for view all cars        |\n",
      "| Press 2 for add or remove existing car |\n",
      "|       Press 3 for add a new car        |\n",
      "|        Press 4 to delete a car         |\n",
      "| Press 5 delete the users who requested |\n",
      "|        Press 6 to Run Analytics        |\n",
      "|       Press 7 to View user logs        |\n",
      "|        Press 8 to View car logs        |\n",
      "|            Press 9 to exit             |\n",
      "+----------------------------------------+\n"
     ]
    },
    {
     "name": "stdin",
     "output_type": "stream",
     "text": [
      " 3\n",
      "Enter Car ID:  8\n",
      "Enter Model :  Bugatti\n",
      "Enter Top Speed :  360\n",
      "Enter Cost Per Day :  1000000\n",
      "Enter no of Cars :  6\n"
     ]
    },
    {
     "name": "stdout",
     "output_type": "stream",
     "text": [
      "Car ID: 8 inserted Successfully.\n",
      "+----------------------------------------+\n",
      "|                 ADMIN                  |\n",
      "+----------------------------------------+\n",
      "|       Press 1 for view all cars        |\n",
      "| Press 2 for add or remove existing car |\n",
      "|       Press 3 for add a new car        |\n",
      "|        Press 4 to delete a car         |\n",
      "| Press 5 delete the users who requested |\n",
      "|        Press 6 to Run Analytics        |\n",
      "|       Press 7 to View user logs        |\n",
      "|        Press 8 to View car logs        |\n",
      "|            Press 9 to exit             |\n",
      "+----------------------------------------+\n"
     ]
    },
    {
     "name": "stdin",
     "output_type": "stream",
     "text": [
      " 1\n"
     ]
    },
    {
     "name": "stdout",
     "output_type": "stream",
     "text": [
      "+-------+---------------+-------+---------+-----------+--------+\n",
      "| carid |     model     | speed |   cost  | availcars | rating |\n",
      "+-------+---------------+-------+---------+-----------+--------+\n",
      "|   1   |   Maruti 800  |   70  |   200   |     4     |  3.7   |\n",
      "|   2   |    Fararri    |  240  |   5000  |     1     |  4.5   |\n",
      "|   3   |   Mustang GT  |  170  |   3000  |     3     |  3.0   |\n",
      "|   4   | Mercedez Benz |  300  |  10000  |     2     |  4.5   |\n",
      "|   5   |   Tata Nano   |   60  |   700   |     5     |  4.0   |\n",
      "|   8   |    Bugatti    |  360  | 1000000 |     6     |  0.0   |\n",
      "+-------+---------------+-------+---------+-----------+--------+\n",
      "+----------------------------------------+\n",
      "|                 ADMIN                  |\n",
      "+----------------------------------------+\n",
      "|       Press 1 for view all cars        |\n",
      "| Press 2 for add or remove existing car |\n",
      "|       Press 3 for add a new car        |\n",
      "|        Press 4 to delete a car         |\n",
      "| Press 5 delete the users who requested |\n",
      "|        Press 6 to Run Analytics        |\n",
      "|       Press 7 to View user logs        |\n",
      "|        Press 8 to View car logs        |\n",
      "|            Press 9 to exit             |\n",
      "+----------------------------------------+\n"
     ]
    },
    {
     "name": "stdin",
     "output_type": "stream",
     "text": [
      " 9\n"
     ]
    },
    {
     "name": "stdout",
     "output_type": "stream",
     "text": [
      "Successfully Signed out: \n"
     ]
    },
    {
     "name": "stdin",
     "output_type": "stream",
     "text": [
      "Are you an Admin/User (A/U) Press E for exit:  U\n",
      "Press S for Signup, L for Login:  S\n",
      "Enter Username:  ccc\n",
      "Enter Passoword:  ccc\n",
      "Enter First Name:  ccc\n",
      "Enter Last Name:  ccc\n",
      "Enter Gender:  M\n",
      "Enter Email:  ccc@gmail.com\n",
      "Enter Address:  ccc\n"
     ]
    },
    {
     "name": "stdout",
     "output_type": "stream",
     "text": [
      "USER: ccc Registered Successfully\n"
     ]
    },
    {
     "name": "stdin",
     "output_type": "stream",
     "text": [
      "Are you an Admin/User (A/U) Press E for exit:  U\n",
      "Press S for Signup, L for Login:  S\n",
      "Enter Username:  ccc\n"
     ]
    },
    {
     "name": "stdout",
     "output_type": "stream",
     "text": [
      "User already exists, please enter a different username: \n",
      " Press X if you want to exit:\n"
     ]
    },
    {
     "name": "stdin",
     "output_type": "stream",
     "text": [
      "Enter Username:  X\n",
      "Are you an Admin/User (A/U) Press E for exit:  U\n",
      "Press S for Signup, L for Login:  L\n",
      "Enter Username or email:  ccc\n",
      "Enter Password:  ccc\n"
     ]
    },
    {
     "name": "stdout",
     "output_type": "stream",
     "text": [
      "+-------------------------------------------------+\n",
      "|                   Welcome: ccc                  |\n",
      "+-------------------------------------------------+\n",
      "|             Press 1 for View all Car            |\n",
      "|                Press 2 Book a Car               |\n",
      "| Press 3 for Return the Car and Make Transaction |\n",
      "|          Press 4 for Show book history          |\n",
      "|          Press 5 to Update User Address         |\n",
      "|         Press 6 request Account Deletion        |\n",
      "|               Press 7 for Sign out              |\n",
      "+-------------------------------------------------+\n"
     ]
    },
    {
     "name": "stdin",
     "output_type": "stream",
     "text": [
      "Enter your Choice:  2\n",
      "Enter Car ID:  8\n"
     ]
    },
    {
     "name": "stdout",
     "output_type": "stream",
     "text": [
      "Your Booking for Car ID: 8 is Successful: Your booking id is: 15, Please note it for future reference\n",
      "+-------------------------------------------------+\n",
      "|                   Welcome: ccc                  |\n",
      "+-------------------------------------------------+\n",
      "|             Press 1 for View all Car            |\n",
      "|                Press 2 Book a Car               |\n",
      "| Press 3 for Return the Car and Make Transaction |\n",
      "|          Press 4 for Show book history          |\n",
      "|          Press 5 to Update User Address         |\n",
      "|         Press 6 request Account Deletion        |\n",
      "|               Press 7 for Sign out              |\n",
      "+-------------------------------------------------+\n"
     ]
    },
    {
     "name": "stdin",
     "output_type": "stream",
     "text": [
      "Enter your Choice:  3\n",
      "Enter the booking ID:  15\n",
      "Enter Rating (1-5):  2\n",
      "Your Tota amount is 1000000: Do you want to return the car now? Y?N:  Y\n",
      "Enter 12 digit Debit Card No:  123456789101\n",
      "Enter pin:  123\n"
     ]
    },
    {
     "name": "stdout",
     "output_type": "stream",
     "text": [
      "Your Transaction is Successful: Please note the Transaction Id: 16XFGH for future reference\n",
      "+-------------------------------------------------+\n",
      "|                   Welcome: ccc                  |\n",
      "+-------------------------------------------------+\n",
      "|             Press 1 for View all Car            |\n",
      "|                Press 2 Book a Car               |\n",
      "| Press 3 for Return the Car and Make Transaction |\n",
      "|          Press 4 for Show book history          |\n",
      "|          Press 5 to Update User Address         |\n",
      "|         Press 6 request Account Deletion        |\n",
      "|               Press 7 for Sign out              |\n",
      "+-------------------------------------------------+\n"
     ]
    },
    {
     "name": "stdin",
     "output_type": "stream",
     "text": [
      "Enter your Choice:  2\n",
      "Enter Car ID:  8\n"
     ]
    },
    {
     "name": "stdout",
     "output_type": "stream",
     "text": [
      "Your Booking for Car ID: 8 is Successful: Your booking id is: 16, Please note it for future reference\n",
      "+-------------------------------------------------+\n",
      "|                   Welcome: ccc                  |\n",
      "+-------------------------------------------------+\n",
      "|             Press 1 for View all Car            |\n",
      "|                Press 2 Book a Car               |\n",
      "| Press 3 for Return the Car and Make Transaction |\n",
      "|          Press 4 for Show book history          |\n",
      "|          Press 5 to Update User Address         |\n",
      "|         Press 6 request Account Deletion        |\n",
      "|               Press 7 for Sign out              |\n",
      "+-------------------------------------------------+\n"
     ]
    },
    {
     "name": "stdin",
     "output_type": "stream",
     "text": [
      "Enter your Choice:  3\n",
      "Enter the booking ID:  16\n",
      "Enter Rating (1-5):  4\n",
      "Your Tota amount is 1000000: Do you want to return the car now? Y?N:  Y\n",
      "Enter 12 digit Debit Card No:  123456789101\n",
      "Enter pin:  123\n"
     ]
    },
    {
     "name": "stdout",
     "output_type": "stream",
     "text": [
      "Your Transaction is Successful: Please note the Transaction Id: 17XFGH for future reference\n",
      "+-------------------------------------------------+\n",
      "|                   Welcome: ccc                  |\n",
      "+-------------------------------------------------+\n",
      "|             Press 1 for View all Car            |\n",
      "|                Press 2 Book a Car               |\n",
      "| Press 3 for Return the Car and Make Transaction |\n",
      "|          Press 4 for Show book history          |\n",
      "|          Press 5 to Update User Address         |\n",
      "|         Press 6 request Account Deletion        |\n",
      "|               Press 7 for Sign out              |\n",
      "+-------------------------------------------------+\n"
     ]
    },
    {
     "name": "stdin",
     "output_type": "stream",
     "text": [
      "Enter your Choice:  1\n"
     ]
    },
    {
     "name": "stdout",
     "output_type": "stream",
     "text": [
      "+-------+---------------+-------+---------+-----------+--------+\n",
      "| carid |     model     | speed |   cost  | availcars | rating |\n",
      "+-------+---------------+-------+---------+-----------+--------+\n",
      "|   1   |   Maruti 800  |   70  |   200   |     4     |  3.7   |\n",
      "|   2   |    Fararri    |  240  |   5000  |     1     |  4.5   |\n",
      "|   3   |   Mustang GT  |  170  |   3000  |     3     |  3.0   |\n",
      "|   4   | Mercedez Benz |  300  |  10000  |     2     |  4.5   |\n",
      "|   5   |   Tata Nano   |   60  |   700   |     5     |  4.0   |\n",
      "|   8   |    Bugatti    |  360  | 1000000 |     6     |  3.0   |\n",
      "+-------+---------------+-------+---------+-----------+--------+\n",
      "+-------------------------------------------------+\n",
      "|                   Welcome: ccc                  |\n",
      "+-------------------------------------------------+\n",
      "|             Press 1 for View all Car            |\n",
      "|                Press 2 Book a Car               |\n",
      "| Press 3 for Return the Car and Make Transaction |\n",
      "|          Press 4 for Show book history          |\n",
      "|          Press 5 to Update User Address         |\n",
      "|         Press 6 request Account Deletion        |\n",
      "|               Press 7 for Sign out              |\n",
      "+-------------------------------------------------+\n"
     ]
    },
    {
     "name": "stdin",
     "output_type": "stream",
     "text": [
      "Enter your Choice:  6\n"
     ]
    },
    {
     "name": "stdout",
     "output_type": "stream",
     "text": [
      "Delete request sent successfully:\n",
      "+-------------------------------------------------+\n",
      "|                   Welcome: ccc                  |\n",
      "+-------------------------------------------------+\n",
      "|             Press 1 for View all Car            |\n",
      "|                Press 2 Book a Car               |\n",
      "| Press 3 for Return the Car and Make Transaction |\n",
      "|          Press 4 for Show book history          |\n",
      "|          Press 5 to Update User Address         |\n",
      "|         Press 6 request Account Deletion        |\n",
      "|               Press 7 for Sign out              |\n",
      "+-------------------------------------------------+\n"
     ]
    },
    {
     "name": "stdin",
     "output_type": "stream",
     "text": [
      "Enter your Choice:  7\n"
     ]
    },
    {
     "name": "stdout",
     "output_type": "stream",
     "text": [
      "Signed out Successfully:\n"
     ]
    },
    {
     "name": "stdin",
     "output_type": "stream",
     "text": [
      "Are you an Admin/User (A/U) Press E for exit:  A\n",
      "Enter Admin Username:  admin\n",
      "Enter Passoword:  123\n"
     ]
    },
    {
     "name": "stdout",
     "output_type": "stream",
     "text": [
      "+----------------------------------------+\n",
      "|                 ADMIN                  |\n",
      "+----------------------------------------+\n",
      "|       Press 1 for view all cars        |\n",
      "| Press 2 for add or remove existing car |\n",
      "|       Press 3 for add a new car        |\n",
      "|        Press 4 to delete a car         |\n",
      "| Press 5 delete the users who requested |\n",
      "|        Press 6 to Run Analytics        |\n",
      "|       Press 7 to View user logs        |\n",
      "|        Press 8 to View car logs        |\n",
      "|            Press 9 to exit             |\n",
      "+----------------------------------------+\n"
     ]
    },
    {
     "name": "stdin",
     "output_type": "stream",
     "text": [
      " 4\n",
      "Enter Car ID:  8\n"
     ]
    },
    {
     "name": "stdout",
     "output_type": "stream",
     "text": [
      "Car ID: 8 Deleted Successfully.\n",
      "+----------------------------------------+\n",
      "|                 ADMIN                  |\n",
      "+----------------------------------------+\n",
      "|       Press 1 for view all cars        |\n",
      "| Press 2 for add or remove existing car |\n",
      "|       Press 3 for add a new car        |\n",
      "|        Press 4 to delete a car         |\n",
      "| Press 5 delete the users who requested |\n",
      "|        Press 6 to Run Analytics        |\n",
      "|       Press 7 to View user logs        |\n",
      "|        Press 8 to View car logs        |\n",
      "|            Press 9 to exit             |\n",
      "+----------------------------------------+\n"
     ]
    },
    {
     "name": "stdin",
     "output_type": "stream",
     "text": [
      " 8\n"
     ]
    },
    {
     "name": "stdout",
     "output_type": "stream",
     "text": [
      "+-------+-------------+-------+---------+-----------+--------+-----------+--------+-------------------+\n",
      "| carid |    model    | speed |   cost  | availcars | rating | operation | doneby | modification_date |\n",
      "+-------+-------------+-------+---------+-----------+--------+-----------+--------+-------------------+\n",
      "|   6   | Hyundai I20 |  120  |    8    |     5     |  3.5   |   DELETE  | ADMIN  |     2023-07-29    |\n",
      "|   7   | Lamborghini |  240  |  80000  |     4     |  0.0   |   DELETE  | ADMIN  |     2023-07-30    |\n",
      "|   8   |   Bugatti   |  360  | 1000000 |     6     |  3.0   |   DELETE  | ADMIN  |     2023-07-30    |\n",
      "+-------+-------------+-------+---------+-----------+--------+-----------+--------+-------------------+\n",
      "+----------------------------------------+\n",
      "|                 ADMIN                  |\n",
      "+----------------------------------------+\n",
      "|       Press 1 for view all cars        |\n",
      "| Press 2 for add or remove existing car |\n",
      "|       Press 3 for add a new car        |\n",
      "|        Press 4 to delete a car         |\n",
      "| Press 5 delete the users who requested |\n",
      "|        Press 6 to Run Analytics        |\n",
      "|       Press 7 to View user logs        |\n",
      "|        Press 8 to View car logs        |\n",
      "|            Press 9 to exit             |\n",
      "+----------------------------------------+\n"
     ]
    },
    {
     "name": "stdin",
     "output_type": "stream",
     "text": [
      " 9\n"
     ]
    },
    {
     "name": "stdout",
     "output_type": "stream",
     "text": [
      "Successfully Signed out: \n"
     ]
    },
    {
     "name": "stdin",
     "output_type": "stream",
     "text": [
      "Are you an Admin/User (A/U) Press E for exit:  U\n",
      "Press S for Signup, L for Login:  L\n",
      "Enter Username or email:  ccc\n",
      "Enter Password:  ccc\n"
     ]
    },
    {
     "name": "stdout",
     "output_type": "stream",
     "text": [
      "+-------------------------------------------------+\n",
      "|                   Welcome: ccc                  |\n",
      "+-------------------------------------------------+\n",
      "|             Press 1 for View all Car            |\n",
      "|                Press 2 Book a Car               |\n",
      "| Press 3 for Return the Car and Make Transaction |\n",
      "|          Press 4 for Show book history          |\n",
      "|          Press 5 to Update User Address         |\n",
      "|         Press 6 request Account Deletion        |\n",
      "|               Press 7 for Sign out              |\n",
      "+-------------------------------------------------+\n"
     ]
    },
    {
     "name": "stdin",
     "output_type": "stream",
     "text": [
      "Enter your Choice:  4\n",
      "Enter User Name:  ccc\n"
     ]
    },
    {
     "name": "stdout",
     "output_type": "stream",
     "text": [
      "+----------+------------+------------+-------+---------+----------+--------+---------+--------+------------+-------+--------+--------------+\n",
      "| username | booking_id |  bookdate  | carid |   cost  | fullname | gender |  model  | rating | returndate | speed |  tid   | total_amount |\n",
      "+----------+------------+------------+-------+---------+----------+--------+---------+--------+------------+-------+--------+--------------+\n",
      "|   ccc    |     15     | 2023-07-30 |   8   | 1000000 | ccc ccc  |   M    | Bugatti |  2.0   | 2023-07-30 |  360  | 16XFGH |   1000000    |\n",
      "|   ccc    |     16     | 2023-07-30 |   8   | 1000000 | ccc ccc  |   M    | Bugatti |  4.0   | 2023-07-30 |  360  | 17XFGH |   1000000    |\n",
      "+----------+------------+------------+-------+---------+----------+--------+---------+--------+------------+-------+--------+--------------+\n",
      "+-------------------------------------------------+\n",
      "|                   Welcome: ccc                  |\n",
      "+-------------------------------------------------+\n",
      "|             Press 1 for View all Car            |\n",
      "|                Press 2 Book a Car               |\n",
      "| Press 3 for Return the Car and Make Transaction |\n",
      "|          Press 4 for Show book history          |\n",
      "|          Press 5 to Update User Address         |\n",
      "|         Press 6 request Account Deletion        |\n",
      "|               Press 7 for Sign out              |\n",
      "+-------------------------------------------------+\n"
     ]
    },
    {
     "name": "stdin",
     "output_type": "stream",
     "text": [
      "Enter your Choice:  7\n"
     ]
    },
    {
     "name": "stdout",
     "output_type": "stream",
     "text": [
      "Signed out Successfully:\n"
     ]
    },
    {
     "name": "stdin",
     "output_type": "stream",
     "text": [
      "Are you an Admin/User (A/U) Press E for exit:  A\n",
      "Enter Admin Username:  admin\n",
      "Enter Passoword:  123\n"
     ]
    },
    {
     "name": "stdout",
     "output_type": "stream",
     "text": [
      "+----------------------------------------+\n",
      "|                 ADMIN                  |\n",
      "+----------------------------------------+\n",
      "|       Press 1 for view all cars        |\n",
      "| Press 2 for add or remove existing car |\n",
      "|       Press 3 for add a new car        |\n",
      "|        Press 4 to delete a car         |\n",
      "| Press 5 delete the users who requested |\n",
      "|        Press 6 to Run Analytics        |\n",
      "|       Press 7 to View user logs        |\n",
      "|        Press 8 to View car logs        |\n",
      "|            Press 9 to exit             |\n",
      "+----------------------------------------+\n"
     ]
    },
    {
     "name": "stdin",
     "output_type": "stream",
     "text": [
      " 5\n"
     ]
    },
    {
     "name": "stdout",
     "output_type": "stream",
     "text": [
      "User deleted successfully\n",
      "+----------------------------------------+\n",
      "|                 ADMIN                  |\n",
      "+----------------------------------------+\n",
      "|       Press 1 for view all cars        |\n",
      "| Press 2 for add or remove existing car |\n",
      "|       Press 3 for add a new car        |\n",
      "|        Press 4 to delete a car         |\n",
      "| Press 5 delete the users who requested |\n",
      "|        Press 6 to Run Analytics        |\n",
      "|       Press 7 to View user logs        |\n",
      "|        Press 8 to View car logs        |\n",
      "|            Press 9 to exit             |\n",
      "+----------------------------------------+\n"
     ]
    },
    {
     "name": "stdin",
     "output_type": "stream",
     "text": [
      " 8\n"
     ]
    },
    {
     "name": "stdout",
     "output_type": "stream",
     "text": [
      "+-------+-------------+-------+---------+-----------+--------+-----------+--------+-------------------+\n",
      "| carid |    model    | speed |   cost  | availcars | rating | operation | doneby | modification_date |\n",
      "+-------+-------------+-------+---------+-----------+--------+-----------+--------+-------------------+\n",
      "|   6   | Hyundai I20 |  120  |    8    |     5     |  3.5   |   DELETE  | ADMIN  |     2023-07-29    |\n",
      "|   7   | Lamborghini |  240  |  80000  |     4     |  0.0   |   DELETE  | ADMIN  |     2023-07-30    |\n",
      "|   8   |   Bugatti   |  360  | 1000000 |     6     |  3.0   |   DELETE  | ADMIN  |     2023-07-30    |\n",
      "+-------+-------------+-------+---------+-----------+--------+-----------+--------+-------------------+\n",
      "+----------------------------------------+\n",
      "|                 ADMIN                  |\n",
      "+----------------------------------------+\n",
      "|       Press 1 for view all cars        |\n",
      "| Press 2 for add or remove existing car |\n",
      "|       Press 3 for add a new car        |\n",
      "|        Press 4 to delete a car         |\n",
      "| Press 5 delete the users who requested |\n",
      "|        Press 6 to Run Analytics        |\n",
      "|       Press 7 to View user logs        |\n",
      "|        Press 8 to View car logs        |\n",
      "|            Press 9 to exit             |\n",
      "+----------------------------------------+\n"
     ]
    },
    {
     "name": "stdin",
     "output_type": "stream",
     "text": [
      " 7\n"
     ]
    },
    {
     "name": "stdout",
     "output_type": "stream",
     "text": [
      "+----------+--------+-------+--------+---------------+---------+-----------+--------+-------------------+\n",
      "| username | fname  | lname | gender |     email     | address | operation | doneby | modification_date |\n",
      "+----------+--------+-------+--------+---------------+---------+-----------+--------+-------------------+\n",
      "|    bg    | Shanks |   s   |   M    |   b@gmal.com  |   aaaa  |   DELETE  | ADMIN  |     2023-07-29    |\n",
      "|   abc    |  abc   |  abc  |   M    | abc@gmail.com |   abc   |   DELETE  | ADMIN  |     2023-07-29    |\n",
      "|   bbb    |  bbb   |  bbb  |   M    | bbb@gmail.com |   bbb   |   DELETE  | ADMIN  |     2023-07-30    |\n",
      "|   ccc    |  ccc   |  ccc  |   M    | ccc@gmail.com |   ccc   |   DELETE  | ADMIN  |     2023-07-30    |\n",
      "+----------+--------+-------+--------+---------------+---------+-----------+--------+-------------------+\n",
      "+----------------------------------------+\n",
      "|                 ADMIN                  |\n",
      "+----------------------------------------+\n",
      "|       Press 1 for view all cars        |\n",
      "| Press 2 for add or remove existing car |\n",
      "|       Press 3 for add a new car        |\n",
      "|        Press 4 to delete a car         |\n",
      "| Press 5 delete the users who requested |\n",
      "|        Press 6 to Run Analytics        |\n",
      "|       Press 7 to View user logs        |\n",
      "|        Press 8 to View car logs        |\n",
      "|            Press 9 to exit             |\n",
      "+----------------------------------------+\n"
     ]
    },
    {
     "name": "stdin",
     "output_type": "stream",
     "text": [
      " 6\n"
     ]
    },
    {
     "name": "stdout",
     "output_type": "stream",
     "text": [
      "Total Amount Received is 2038716\n",
      "Number of Pending Transactions is 0\n",
      "+----------------------------------------+\n",
      "|                 ADMIN                  |\n",
      "+----------------------------------------+\n",
      "|       Press 1 for view all cars        |\n",
      "| Press 2 for add or remove existing car |\n",
      "|       Press 3 for add a new car        |\n",
      "|        Press 4 to delete a car         |\n",
      "| Press 5 delete the users who requested |\n",
      "|        Press 6 to Run Analytics        |\n",
      "|       Press 7 to View user logs        |\n",
      "|        Press 8 to View car logs        |\n",
      "|            Press 9 to exit             |\n",
      "+----------------------------------------+\n"
     ]
    },
    {
     "name": "stdin",
     "output_type": "stream",
     "text": [
      " 9\n"
     ]
    },
    {
     "name": "stdout",
     "output_type": "stream",
     "text": [
      "Successfully Signed out: \n"
     ]
    },
    {
     "name": "stdin",
     "output_type": "stream",
     "text": [
      "Are you an Admin/User (A/U) Press E for exit:  E\n"
     ]
    },
    {
     "name": "stdout",
     "output_type": "stream",
     "text": [
      "Thanks for Using Crent: See you soon\n"
     ]
    }
   ],
   "source": [
    "while(1):\n",
    "    choice = input(\"Are you an Admin/User (A/U) Press E for exit: \")\n",
    "    \n",
    "    if(choice == 'A'):\n",
    "        a = admin()\n",
    "        a.login()\n",
    "        \n",
    "    elif(choice == 'U'):\n",
    "        choice2 = input(\"Press S for Signup, L for Login: \")\n",
    "        u = user()\n",
    "        if(choice2 == 'S'):\n",
    "            u.signup()\n",
    "        elif(choice2 == 'L'):\n",
    "            u.login()\n",
    "        else:\n",
    "            print(\"Invalid Option\")\n",
    "            \n",
    "    elif(choice == 'E'):\n",
    "        print(\"Thanks for Using Crent: See you soon\")\n",
    "        break\n",
    "        \n",
    "    else:\n",
    "        print(\"Invalid Option\")"
   ]
  },
  {
   "cell_type": "code",
   "execution_count": null,
   "id": "48157660-83a2-40e0-ba0d-15f6f6f789a0",
   "metadata": {},
   "outputs": [],
   "source": []
  }
 ],
 "metadata": {
  "kernelspec": {
   "display_name": "Python 3 (ipykernel)",
   "language": "python",
   "name": "python3"
  },
  "language_info": {
   "codemirror_mode": {
    "name": "ipython",
    "version": 3
   },
   "file_extension": ".py",
   "mimetype": "text/x-python",
   "name": "python",
   "nbconvert_exporter": "python",
   "pygments_lexer": "ipython3",
   "version": "3.10.11"
  }
 },
 "nbformat": 4,
 "nbformat_minor": 5
}
