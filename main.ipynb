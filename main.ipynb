{
 "cells": [
  {
   "cell_type": "code",
   "execution_count": 2,
   "id": "48262bb6-31c0-43c4-b4d1-00d7f6e830a4",
   "metadata": {},
   "outputs": [],
   "source": [
    "%run library.ipynb\n",
    "%run db_conn.ipynb\n",
    "%run user.ipynb\n",
    "%run admin_all.ipynb"
   ]
  },
  {
   "cell_type": "code",
   "execution_count": 28,
   "id": "6f4ed2f2-c76b-4d56-b7f3-f32a27b9f866",
   "metadata": {},
   "outputs": [
    {
     "name": "stdin",
     "output_type": "stream",
     "text": [
      "Are you an Admin/User (A/U) Press E for exit:  A\n",
      "Enter Admin Username:  admin\n",
      "Enter Passoword:  123\n"
     ]
    },
    {
     "name": "stdout",
     "output_type": "stream",
     "text": [
      "+----------------------------------------+\n",
      "|                 ADMIN                  |\n",
      "+----------------------------------------+\n",
      "|       Press 1 for view all cars        |\n",
      "| Press 2 for add or remove existing car |\n",
      "|       Press 3 for add a new car        |\n",
      "|        Press 4 to delete a car         |\n",
      "| Press 5 delete the users who requested |\n",
      "|        Press 6 to Run Analytics        |\n",
      "|       Press 7 to View user logs        |\n",
      "|        Press 8 to View car logs        |\n",
      "|            Press 9 to exit             |\n",
      "+----------------------------------------+\n"
     ]
    },
    {
     "name": "stdin",
     "output_type": "stream",
     "text": [
      " 8\n"
     ]
    },
    {
     "name": "stdout",
     "output_type": "stream",
     "text": [
      "+-------+-------------+-------+------+-----------+--------+-----------+--------+-------------------+\n",
      "| carid |    model    | speed | cost | availcars | rating | operation | doneby | modification_date |\n",
      "+-------+-------------+-------+------+-----------+--------+-----------+--------+-------------------+\n",
      "|   6   | Hyundai I20 |  120  |  8   |     5     |  3.5   |   DELETE  | ADMIN  |     2023-07-29    |\n",
      "+-------+-------------+-------+------+-----------+--------+-----------+--------+-------------------+\n",
      "+----------------------------------------+\n",
      "|                 ADMIN                  |\n",
      "+----------------------------------------+\n",
      "|       Press 1 for view all cars        |\n",
      "| Press 2 for add or remove existing car |\n",
      "|       Press 3 for add a new car        |\n",
      "|        Press 4 to delete a car         |\n",
      "| Press 5 delete the users who requested |\n",
      "|        Press 6 to Run Analytics        |\n",
      "|       Press 7 to View user logs        |\n",
      "|        Press 8 to View car logs        |\n",
      "|            Press 9 to exit             |\n",
      "+----------------------------------------+\n"
     ]
    },
    {
     "name": "stdin",
     "output_type": "stream",
     "text": [
      " 9\n"
     ]
    },
    {
     "name": "stdout",
     "output_type": "stream",
     "text": [
      "Successfully Signed out: \n"
     ]
    },
    {
     "name": "stdin",
     "output_type": "stream",
     "text": [
      "Are you an Admin/User (A/U) Press E for exit:  E\n"
     ]
    },
    {
     "name": "stdout",
     "output_type": "stream",
     "text": [
      "Thanks for Using Crent: See you soon\n"
     ]
    }
   ],
   "source": [
    "while(1):\n",
    "    choice = input(\"Are you an Admin/User (A/U) Press E for exit: \")\n",
    "    if(choice == 'A'):\n",
    "        a = admin()\n",
    "        a.login()\n",
    "    elif(choice == 'U'):\n",
    "        choice2 = input(\"Press S for Signup, L for Login: \")\n",
    "        u = user()\n",
    "        if(choice2 == 'S'):\n",
    "            u.signup()\n",
    "        elif(choice2 == 'L'):\n",
    "            u.login()\n",
    "        else:\n",
    "            print(\"Invalid Option\")\n",
    "    elif(choice == 'E'):\n",
    "        print(\"Thanks for Using Crent: See you soon\")\n",
    "        break\n",
    "    else:\n",
    "        print(\"Invalid Option\")"
   ]
  },
  {
   "cell_type": "code",
   "execution_count": null,
   "id": "48157660-83a2-40e0-ba0d-15f6f6f789a0",
   "metadata": {},
   "outputs": [],
   "source": []
  }
 ],
 "metadata": {
  "kernelspec": {
   "display_name": "Python 3 (ipykernel)",
   "language": "python",
   "name": "python3"
  },
  "language_info": {
   "codemirror_mode": {
    "name": "ipython",
    "version": 3
   },
   "file_extension": ".py",
   "mimetype": "text/x-python",
   "name": "python",
   "nbconvert_exporter": "python",
   "pygments_lexer": "ipython3",
   "version": "3.10.11"
  }
 },
 "nbformat": 4,
 "nbformat_minor": 5
}
