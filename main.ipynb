{
 "cells": [
  {
   "cell_type": "code",
   "execution_count": 1,
   "id": "48262bb6-31c0-43c4-b4d1-00d7f6e830a4",
   "metadata": {},
   "outputs": [],
   "source": [
    "%run library.ipynb\n",
    "%run db_conn.ipynb\n",
    "%run user.ipynb\n",
    "%run admin_all.ipynb"
   ]
  },
  {
   "cell_type": "code",
   "execution_count": null,
   "id": "6f4ed2f2-c76b-4d56-b7f3-f32a27b9f866",
   "metadata": {},
   "outputs": [
    {
     "name": "stdin",
     "output_type": "stream",
     "text": [
      "Are you an Admin/User (A/U) Press E for exit:  U\n",
      "Press S for Signup, L for Login:  L\n",
      "Enter Username or email:  shib\n",
      "Enter Password:  h\n"
     ]
    },
    {
     "name": "stdout",
     "output_type": "stream",
     "text": [
      "+-------------------------------------------------+\n",
      "|                  Welcome: shib                  |\n",
      "+-------------------------------------------------+\n",
      "|             Press 1 for View all Car            |\n",
      "|                Press 2 Book a Car               |\n",
      "| Press 3 for Return the Car and Make Transaction |\n",
      "|          Press 4 for Show book history          |\n",
      "|          Press 5 to Update User Address         |\n",
      "|         Press 6 request Account Deletion        |\n",
      "|               Press 7 for Sign out              |\n",
      "+-------------------------------------------------+\n"
     ]
    },
    {
     "name": "stdin",
     "output_type": "stream",
     "text": [
      "Enter your Choice:  1\n"
     ]
    },
    {
     "name": "stdout",
     "output_type": "stream",
     "text": [
      "+-------+---------------+-------+-------+-----------+--------+\n",
      "| carid |     model     | speed |  cost | availcars | rating |\n",
      "+-------+---------------+-------+-------+-----------+--------+\n",
      "|   1   |   Maruti 800  |   70  |  200  |     4     |  3.7   |\n",
      "|   2   |    Fararri    |  240  |  5000 |     1     |  4.5   |\n",
      "|   3   |   Mustang GT  |  170  |  3000 |     3     |  3.0   |\n",
      "|   4   | Mercedez Benz |  300  | 10000 |     2     |  4.5   |\n",
      "|   5   |   Tata Nano   |   60  |  700  |     5     |  3.5   |\n",
      "+-------+---------------+-------+-------+-----------+--------+\n",
      "+-------------------------------------------------+\n",
      "|                  Welcome: shib                  |\n",
      "+-------------------------------------------------+\n",
      "|             Press 1 for View all Car            |\n",
      "|                Press 2 Book a Car               |\n",
      "| Press 3 for Return the Car and Make Transaction |\n",
      "|          Press 4 for Show book history          |\n",
      "|          Press 5 to Update User Address         |\n",
      "|         Press 6 request Account Deletion        |\n",
      "|               Press 7 for Sign out              |\n",
      "+-------------------------------------------------+\n"
     ]
    },
    {
     "name": "stdin",
     "output_type": "stream",
     "text": [
      "Enter your Choice:  2\n",
      "Enter Car ID:  5\n"
     ]
    },
    {
     "name": "stdout",
     "output_type": "stream",
     "text": [
      "Your Booking for Car ID: 5 is Successful: Your booking id is: 12, Please note it for future reference\n",
      "+-------------------------------------------------+\n",
      "|                  Welcome: shib                  |\n",
      "+-------------------------------------------------+\n",
      "|             Press 1 for View all Car            |\n",
      "|                Press 2 Book a Car               |\n",
      "| Press 3 for Return the Car and Make Transaction |\n",
      "|          Press 4 for Show book history          |\n",
      "|          Press 5 to Update User Address         |\n",
      "|         Press 6 request Account Deletion        |\n",
      "|               Press 7 for Sign out              |\n",
      "+-------------------------------------------------+\n"
     ]
    },
    {
     "name": "stdin",
     "output_type": "stream",
     "text": [
      "Enter your Choice:  3\n",
      "Enter the booking ID:  12\n",
      "Enter Rating (1-5):  5\n",
      "Your Tota amount is 700: Do you want to return the car now? Y?N:  Y\n",
      "Enter 12 digit Debit Card No:  1233 4215 6621\n",
      "Enter pin:  6798\n"
     ]
    },
    {
     "name": "stdout",
     "output_type": "stream",
     "text": [
      "Your Transaction is Successful: Please note the Transaction Id: 13XFGH for future reference\n",
      "+-------------------------------------------------+\n",
      "|                  Welcome: shib                  |\n",
      "+-------------------------------------------------+\n",
      "|             Press 1 for View all Car            |\n",
      "|                Press 2 Book a Car               |\n",
      "| Press 3 for Return the Car and Make Transaction |\n",
      "|          Press 4 for Show book history          |\n",
      "|          Press 5 to Update User Address         |\n",
      "|         Press 6 request Account Deletion        |\n",
      "|               Press 7 for Sign out              |\n",
      "+-------------------------------------------------+\n"
     ]
    },
    {
     "name": "stdin",
     "output_type": "stream",
     "text": [
      "Enter your Choice:  4\n",
      "Enter User Name:  shib\n"
     ]
    },
    {
     "name": "stdout",
     "output_type": "stream",
     "text": [
      "+----------+------------+------------+-------+------+-------------------+--------+-----------+--------+------------+-------+--------+--------------+\n",
      "| username | booking_id |  bookdate  | carid | cost |      fullname     | gender |   model   | rating | returndate | speed |  tid   | total_amount |\n",
      "+----------+------------+------------+-------+------+-------------------+--------+-----------+--------+------------+-------+--------+--------------+\n",
      "|   shib   |     10     | 2023-05-20 |   5   | 700  | Shibshankar Bhuti |   M    | Tata Nano |  4.0   | 2023-05-20 |   60  | 11XFGH |     700      |\n",
      "|   shib   |     11     | 2023-05-20 |   5   | 700  | Shibshankar Bhuti |   M    | Tata Nano |  3.0   | 2023-05-20 |   60  | 12XFGH |     700      |\n",
      "|   shib   |     12     | 2023-05-28 |   5   | 700  | Shibshankar Bhuti |   M    | Tata Nano |  5.0   | 2023-05-28 |   60  | 13XFGH |     700      |\n",
      "+----------+------------+------------+-------+------+-------------------+--------+-----------+--------+------------+-------+--------+--------------+\n",
      "+-------------------------------------------------+\n",
      "|                  Welcome: shib                  |\n",
      "+-------------------------------------------------+\n",
      "|             Press 1 for View all Car            |\n",
      "|                Press 2 Book a Car               |\n",
      "| Press 3 for Return the Car and Make Transaction |\n",
      "|          Press 4 for Show book history          |\n",
      "|          Press 5 to Update User Address         |\n",
      "|         Press 6 request Account Deletion        |\n",
      "|               Press 7 for Sign out              |\n",
      "+-------------------------------------------------+\n"
     ]
    },
    {
     "name": "stdin",
     "output_type": "stream",
     "text": [
      "Enter your Choice:  1\n"
     ]
    },
    {
     "name": "stdout",
     "output_type": "stream",
     "text": [
      "+-------+---------------+-------+-------+-----------+--------+\n",
      "| carid |     model     | speed |  cost | availcars | rating |\n",
      "+-------+---------------+-------+-------+-----------+--------+\n",
      "|   1   |   Maruti 800  |   70  |  200  |     4     |  3.7   |\n",
      "|   2   |    Fararri    |  240  |  5000 |     1     |  4.5   |\n",
      "|   3   |   Mustang GT  |  170  |  3000 |     3     |  3.0   |\n",
      "|   4   | Mercedez Benz |  300  | 10000 |     2     |  4.5   |\n",
      "|   5   |   Tata Nano   |   60  |  700  |     5     |  4.0   |\n",
      "+-------+---------------+-------+-------+-----------+--------+\n",
      "+-------------------------------------------------+\n",
      "|                  Welcome: shib                  |\n",
      "+-------------------------------------------------+\n",
      "|             Press 1 for View all Car            |\n",
      "|                Press 2 Book a Car               |\n",
      "| Press 3 for Return the Car and Make Transaction |\n",
      "|          Press 4 for Show book history          |\n",
      "|          Press 5 to Update User Address         |\n",
      "|         Press 6 request Account Deletion        |\n",
      "|               Press 7 for Sign out              |\n",
      "+-------------------------------------------------+\n"
     ]
    }
   ],
   "source": [
    "while(1):\n",
    "    choice = input(\"Are you an Admin/User (A/U) Press E for exit: \")\n",
    "    if(choice == 'A'):\n",
    "        a = admin()\n",
    "        a.login()\n",
    "    elif(choice == 'U'):\n",
    "        choice2 = input(\"Press S for Signup, L for Login: \")\n",
    "        u = user()\n",
    "        if(choice2 == 'S'):\n",
    "            u.signup()\n",
    "        elif(choice2 == 'L'):\n",
    "            u.login()\n",
    "        else:\n",
    "            print(\"Invalid Option\")\n",
    "    elif(choice == 'E'):\n",
    "        print(\"Thanks for Using Crent: See you soon\")\n",
    "        break\n",
    "    else:\n",
    "        print(\"Invalid Option\")"
   ]
  },
  {
   "cell_type": "code",
   "execution_count": null,
   "id": "48157660-83a2-40e0-ba0d-15f6f6f789a0",
   "metadata": {},
   "outputs": [],
   "source": []
  }
 ],
 "metadata": {
  "kernelspec": {
   "display_name": "Python 3 (ipykernel)",
   "language": "python",
   "name": "python3"
  },
  "language_info": {
   "codemirror_mode": {
    "name": "ipython",
    "version": 3
   },
   "file_extension": ".py",
   "mimetype": "text/x-python",
   "name": "python",
   "nbconvert_exporter": "python",
   "pygments_lexer": "ipython3",
   "version": "3.10.11"
  }
 },
 "nbformat": 4,
 "nbformat_minor": 5
}
