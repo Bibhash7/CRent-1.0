{
 "cells": [
  {
   "cell_type": "code",
   "execution_count": null,
   "id": "6c92950f-cda1-40f4-84ca-1b0c993bc48f",
   "metadata": {},
   "outputs": [],
   "source": [
    "cnxn_str = (\"Driver={ODBC Driver 17 for SQL Server};\"\n",
    "            \"Server=LAPTOP-2QIA7QPR;\"\n",
    "            \"Database=crent;\"\n",
    "            \"Trusted_Connection=yes;\")\n",
    "conn = pyodbc.connect(cnxn_str)\n",
    "cursor = conn.cursor()\n",
    "cluster = Cluster(['127.0.0.1'], port=9042)\n",
    "session = cluster.connect()"
   ]
  }
 ],
 "metadata": {
  "kernelspec": {
   "display_name": "Python 3 (ipykernel)",
   "language": "python",
   "name": "python3"
  },
  "language_info": {
   "codemirror_mode": {
    "name": "ipython",
    "version": 3
   },
   "file_extension": ".py",
   "mimetype": "text/x-python",
   "name": "python",
   "nbconvert_exporter": "python",
   "pygments_lexer": "ipython3",
   "version": "3.10.11"
  }
 },
 "nbformat": 4,
 "nbformat_minor": 5
}
